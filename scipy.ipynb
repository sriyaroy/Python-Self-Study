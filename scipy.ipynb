{
 "cells": [
  {
   "cell_type": "markdown",
   "metadata": {},
   "source": [
    "## Scipy Problems"
   ]
  },
  {
   "cell_type": "markdown",
   "metadata": {},
   "source": [
    "#### Tinder Coach\n",
    "[source](https://www.practiceprobs.com/problemsets/python-sparse-matrices/tinder-coach/) You operate an online business called tindercoach.com where you give people advice on their Tinder profiles ❤️‍🔥. You have a dictionary of visits indicating how many times each visitor_id visited each page on your site. Convert visits into a Compressed Sparse Column (CSC) matrix where element (i,j) stores the number of times visitor i visited page j.\n",
    "\n",
    "Then print the sub-matrix showing how many times visitors 1443, 6584, and 7040 visited pages tindercoach.com/chl, tindercoach.com/nky, and tindercoach.com/zmr.\n",
    "\n"
   ]
  },
  {
   "cell_type": "code",
   "execution_count": 2,
   "metadata": {},
   "outputs": [
    {
     "name": "stdout",
     "output_type": "stream",
     "text": [
      "defaultdict(<class 'int'>, {(3654, 'tindercoach.com/frc'): 1, (1443, 'tindercoach.com/lak'): 1, (3654, 'tindercoach.com/vhz'): 1, (4545, 'tindercoach.com/iiw'): 1, (3735, 'tindercoach.com/lya'): 2, (4545, 'tindercoach.com/cig'): 1, (5502, 'tindercoach.com/pcc'): 1, (1443, 'tindercoach.com/lds'): 2, (5502, 'tindercoach.com/yre'): 1, (6584, 'tindercoach.com/jam'): 1, (5234, 'tindercoach.com/ztv'): 1, (6409, 'tindercoach.com/sve'): 1, (7040, 'tindercoach.com/dsm'): 1, (5502, 'tindercoach.com/pdf'): 1, (5234, 'tindercoach.com/rzu'): 1, (3181, 'tindercoach.com/pcc'): 1, (3654, 'tindercoach.com/zgn'): 1, (5234, 'tindercoach.com/adx'): 1, (1443, 'tindercoach.com/zmr'): 1, (3654, 'tindercoach.com/eow'): 1, (6409, 'tindercoach.com/hie'): 1, (7040, 'tindercoach.com/nny'): 1, (3181, 'tindercoach.com/vhz'): 1, (3735, 'tindercoach.com/qht'): 1, (3181, 'tindercoach.com/rbh'): 1, (1443, 'tindercoach.com/elo'): 1, (6409, 'tindercoach.com/wpb'): 1, (3654, 'tindercoach.com/yre'): 1, (1443, 'tindercoach.com/ggx'): 1, (3181, 'tindercoach.com/ttq'): 1, (1443, 'tindercoach.com/cac'): 1, (6584, 'tindercoach.com/jyi'): 1, (6584, 'tindercoach.com/iix'): 1, (7040, 'tindercoach.com/ztv'): 1, (5234, 'tindercoach.com/zfq'): 1, (4545, 'tindercoach.com/bgq'): 1, (3181, 'tindercoach.com/zhe'): 1, (1443, 'tindercoach.com/cxm'): 1, (5502, 'tindercoach.com/cik'): 1, (3181, 'tindercoach.com/hih'): 1, (6584, 'tindercoach.com/dre'): 1, (5234, 'tindercoach.com/hww'): 1, (5502, 'tindercoach.com/lfl'): 1, (3181, 'tindercoach.com/rod'): 1, (7040, 'tindercoach.com/lds'): 1, (3735, 'tindercoach.com/csv'): 1, (6584, 'tindercoach.com/tls'): 1, (1443, 'tindercoach.com/agh'): 1, (5234, 'tindercoach.com/zra'): 1, (5502, 'tindercoach.com/cjp'): 1, (3181, 'tindercoach.com/gyi'): 1, (1443, 'tindercoach.com/dtw'): 1, (1443, 'tindercoach.com/hww'): 1, (6584, 'tindercoach.com/nky'): 1, (5234, 'tindercoach.com/pdf'): 1, (3735, 'tindercoach.com/lfl'): 1, (1443, 'tindercoach.com/dbl'): 1, (3181, 'tindercoach.com/age'): 1, (4545, 'tindercoach.com/age'): 1, (5234, 'tindercoach.com/elo'): 1, (3735, 'tindercoach.com/jyi'): 1, (3735, 'tindercoach.com/zzl'): 1, (7040, 'tindercoach.com/kpr'): 1, (7040, 'tindercoach.com/rod'): 1, (3181, 'tindercoach.com/pme'): 1, (7040, 'tindercoach.com/waf'): 1, (3181, 'tindercoach.com/fwa'): 1, (7040, 'tindercoach.com/cac'): 1, (5234, 'tindercoach.com/dre'): 1, (3181, 'tindercoach.com/ftr'): 1, (4545, 'tindercoach.com/vxe'): 1, (6584, 'tindercoach.com/kpr'): 2, (7040, 'tindercoach.com/elo'): 1, (3735, 'tindercoach.com/eaw'): 1, (4545, 'tindercoach.com/kzn'): 1, (7040, 'tindercoach.com/gqy'): 1, (3654, 'tindercoach.com/age'): 1, (6584, 'tindercoach.com/usk'): 1, (6584, 'tindercoach.com/jfq'): 1, (6584, 'tindercoach.com/waf'): 1, (5502, 'tindercoach.com/cry'): 1, (6584, 'tindercoach.com/jju'): 1, (6409, 'tindercoach.com/csv'): 1, (5234, 'tindercoach.com/yre'): 1, (4545, 'tindercoach.com/zhe'): 1, (3735, 'tindercoach.com/wpb'): 1, (6584, 'tindercoach.com/pdf'): 1, (3654, 'tindercoach.com/eaw'): 1, (4545, 'tindercoach.com/yre'): 1, (3735, 'tindercoach.com/dre'): 1, (5502, 'tindercoach.com/dqa'): 1, (3654, 'tindercoach.com/kzn'): 1, (1443, 'tindercoach.com/waf'): 1, (3181, 'tindercoach.com/lxz'): 1, (3181, 'tindercoach.com/isb'): 1, (5502, 'tindercoach.com/trq'): 1, (5502, 'tindercoach.com/waf'): 1})\n"
     ]
    }
   ],
   "source": [
    "import random\n",
    "import string\n",
    "from collections import defaultdict\n",
    "\n",
    "Npages = 10\n",
    "Nvisitors = 10\n",
    "Nvisits = 100\n",
    "\n",
    "random.seed(2357)\n",
    "visitor_ids = list(set(random.randint(1000, 9999) for i in range(Nvisitors)))\n",
    "pages = list(set('tindercoach.com/' + ''.join(random.choices(string.ascii_lowercase, k=3)) for i in range(Nvisits)))\n",
    "\n",
    "visits = defaultdict(int)\n",
    "for i in range(Nvisits):\n",
    "    key = (random.choice(visitor_ids), random.choice(pages))\n",
    "    visits[key] += 1\n",
    "\n",
    "print(visits)"
   ]
  },
  {
   "cell_type": "code",
   "execution_count": 9,
   "metadata": {},
   "outputs": [],
   "source": [
    "## My Solution\n",
    "import scipy\n",
    "import numpy as np\n"
   ]
  }
 ],
 "metadata": {
  "kernelspec": {
   "display_name": "env",
   "language": "python",
   "name": "python3"
  },
  "language_info": {
   "codemirror_mode": {
    "name": "ipython",
    "version": 3
   },
   "file_extension": ".py",
   "mimetype": "text/x-python",
   "name": "python",
   "nbconvert_exporter": "python",
   "pygments_lexer": "ipython3",
   "version": "3.9.6"
  }
 },
 "nbformat": 4,
 "nbformat_minor": 2
}
