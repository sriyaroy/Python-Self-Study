{
 "cells": [
  {
   "cell_type": "markdown",
   "metadata": {},
   "source": [
    "## Pandas Problems\n",
    "All problems have been sourced from [here](https://www.practiceprobs.com)"
   ]
  },
  {
   "cell_type": "markdown",
   "metadata": {},
   "source": [
    "#### Baby Names\n",
    "[Source](https://www.practiceprobs.com/problemsets/python-pandas/series/baby-names/)\n",
    "You and your spouse decided to let the internet name your next child. You’ve asked the great people of the web to submit their favorite names, and you’ve compiled their submissions into a Series called babynames. Determine how many people voted for the names ‘Chad’, ‘Ruger’, and ‘Zeltron’."
   ]
  },
  {
   "cell_type": "code",
   "execution_count": 1,
   "metadata": {},
   "outputs": [],
   "source": [
    "import numpy as np\n",
    "import pandas as pd\n",
    "\n",
    "babynames = pd.Series([\n",
    "    'Jathonathon', 'Zeltron', 'Ruger', 'Phreddy', 'Ruger', 'Chad', 'Chad',\n",
    "    'Ruger', 'Ryan', 'Ruger', 'Chad', 'Ryan', 'Phreddy', 'Phreddy', 'Phreddy',\n",
    "    'Mister', 'Zeltron', 'Ryan', 'Ruger', 'Ruger', 'Jathonathon',\n",
    "    'Jathonathon', 'Ruger', 'Chad', 'Zeltron'], dtype='string')"
   ]
  },
  {
   "cell_type": "code",
   "execution_count": null,
   "metadata": {},
   "outputs": [
    {
     "data": {
      "text/plain": [
       "Chad       4\n",
       "Zeltron    3\n",
       "Ruger      7\n",
       "Name: count, dtype: Int64"
      ]
     },
     "execution_count": 23,
     "metadata": {},
     "output_type": "execute_result"
    }
   ],
   "source": [
    "## My Solution\n",
    "babynames.value_counts().loc[['Chad', 'Zeltron', 'Ruger']]"
   ]
  },
  {
   "cell_type": "markdown",
   "metadata": {},
   "source": [
    "#### Car Shopping\n",
    "[Source](https://www.practiceprobs.com/problemsets/python-pandas/series/car-shopping/) After accidentally leaving an ice chest of fish and shrimp in your car for a week while you were on vacation, you’re now in the market for a new vehicle 🚗. Your insurance didn’t cover the loss, so you want to make sure you get a good deal on your new car.\n",
    "\n",
    "Given a Series of car asking_prices and another Series of car fair_prices, determine which cars for sale are a good deal. In other words, identify cars whose asking price is less than their fair price."
   ]
  },
  {
   "cell_type": "code",
   "execution_count": 25,
   "metadata": {},
   "outputs": [
    {
     "name": "stdout",
     "output_type": "stream",
     "text": [
      "civic      5000\n",
      "civic      7600\n",
      "camry      9000\n",
      "mustang    8500\n",
      "mustang    7000\n",
      "dtype: int64\n",
      "civic      5500\n",
      "mustang    7500\n",
      "camry      7500\n",
      "dtype: int64\n"
     ]
    }
   ],
   "source": [
    "import numpy as np\n",
    "import pandas as pd\n",
    "\n",
    "asking_prices = pd.Series([5000, 7600, 9000, 8500, 7000], index=['civic', 'civic', 'camry', 'mustang', 'mustang'])\n",
    "fair_prices = pd.Series([5500, 7500, 7500], index=['civic', 'mustang', 'camry'])\n",
    "\n",
    "print(asking_prices)\n",
    "\n",
    "print(fair_prices)"
   ]
  },
  {
   "cell_type": "code",
   "execution_count": 28,
   "metadata": {},
   "outputs": [
    {
     "data": {
      "text/plain": [
       "civic     -500\n",
       "mustang   -500\n",
       "dtype: int64"
      ]
     },
     "execution_count": 28,
     "metadata": {},
     "output_type": "execute_result"
    }
   ],
   "source": [
    "## My Solution\n",
    "potential_deals = pd.Series(asking_prices - fair_prices)\n",
    "good_deals = potential_deals[potential_deals < 0]\n",
    "good_deals"
   ]
  },
  {
   "cell_type": "markdown",
   "metadata": {},
   "source": [
    "#### Bees Knees\n",
    "[source](https://www.practiceprobs.com/problemsets/python-pandas/series/bees-knees/) Given, two Series bees and knees, if the ith value of bees is NaN, double the ith value inside knees."
   ]
  },
  {
   "cell_type": "code",
   "execution_count": 29,
   "metadata": {},
   "outputs": [
    {
     "name": "stdout",
     "output_type": "stream",
     "text": [
      "0     True\n",
      "1     True\n",
      "2    False\n",
      "3      NaN\n",
      "4     True\n",
      "5    False\n",
      "6     True\n",
      "7      NaN\n",
      "dtype: object\n",
      "7     5\n",
      "0     2\n",
      "2     9\n",
      "6     1\n",
      "3     3\n",
      "5    10\n",
      "1     5\n",
      "4     2\n",
      "dtype: int64\n"
     ]
    }
   ],
   "source": [
    "import numpy as np\n",
    "import pandas as pd\n",
    "\n",
    "bees = pd.Series([True, True, False, np.nan, True, False, True, np.nan])\n",
    "knees = pd.Series([5,2,9,1,3,10,5,2], index = [7,0,2,6,3,5,1,4])\n",
    "\n",
    "print(bees)\n",
    "\n",
    "print(knees)"
   ]
  },
  {
   "cell_type": "code",
   "execution_count": 39,
   "metadata": {},
   "outputs": [
    {
     "data": {
      "text/plain": [
       "7     5\n",
       "0     2\n",
       "2     9\n",
       "6     4\n",
       "3     3\n",
       "5    10\n",
       "1     5\n",
       "4     8\n",
       "dtype: int64"
      ]
     },
     "execution_count": 39,
     "metadata": {},
     "output_type": "execute_result"
    }
   ],
   "source": [
    "## My solution\n",
    "knees.loc[pd.isna(bees).to_numpy()] *= 2\n",
    "knees"
   ]
  }
 ],
 "metadata": {
  "kernelspec": {
   "display_name": "env",
   "language": "python",
   "name": "python3"
  },
  "language_info": {
   "codemirror_mode": {
    "name": "ipython",
    "version": 3
   },
   "file_extension": ".py",
   "mimetype": "text/x-python",
   "name": "python",
   "nbconvert_exporter": "python",
   "pygments_lexer": "ipython3",
   "version": "3.9.6"
  }
 },
 "nbformat": 4,
 "nbformat_minor": 2
}
