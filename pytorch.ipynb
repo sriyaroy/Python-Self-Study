{
 "cells": [
  {
   "cell_type": "markdown",
   "metadata": {},
   "source": [
    "## PyTorch Problems"
   ]
  },
  {
   "cell_type": "markdown",
   "metadata": {},
   "source": [
    "#### Random Block Problem\n",
    "[source](https://www.practiceprobs.com/problemsets/pytorch/tensors/random-block/) Create a 10x10 tensor of 32-bit integers filled with zeros. Then select a random 3x3 block inside the tensor and switch the values from 0 to 1.\n",
    "\n",
    "Bonus\n",
    "You can interpret this tensor as an image where 0s represent black pixels and 1s represent white pixels. Plot the image."
   ]
  },
  {
   "cell_type": "code",
   "execution_count": 13,
   "metadata": {},
   "outputs": [
    {
     "data": {
      "text/plain": [
       "<matplotlib.image.AxesImage at 0x11f79f3a0>"
      ]
     },
     "execution_count": 13,
     "metadata": {},
     "output_type": "execute_result"
    },
    {
     "data": {
      "image/png": "[encoded data removed]",
      "text/plain": [
       "<Figure size 640x480 with 1 Axes>"
      ]
     },
     "metadata": {},
     "output_type": "display_data"
    }
   ],
   "source": [
    "import torch\n",
    "import random\n",
    "import matplotlib.pyplot as plt\n",
    "\n",
    "zeros = torch.zeros((10, 10), dtype=torch.int32)\n",
    "r, c = random.randint(0, 7), random.randint(0, 7)\n",
    "zeros[r:r+3, c:c+3] = 1\n",
    "\n",
    "plt.imshow(zeros)"
   ]
  }
 ],
 "metadata": {
  "kernelspec": {
   "display_name": "env",
   "language": "python",
   "name": "python3"
  },
  "language_info": {
   "codemirror_mode": {
    "name": "ipython",
    "version": 3
   },
   "file_extension": ".py",
   "mimetype": "text/x-python",
   "name": "python",
   "nbconvert_exporter": "python",
   "pygments_lexer": "ipython3",
   "version": "3.9.6"
  }
 },
 "nbformat": 4,
 "nbformat_minor": 2
}
